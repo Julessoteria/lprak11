{
 "cells": [
  {
   "cell_type": "code",
   "execution_count": 1,
   "id": "e17013c3",
   "metadata": {},
   "outputs": [
    {
     "name": "stdout",
     "output_type": "stream",
     "text": [
      "True\n"
     ]
    }
   ],
   "source": [
    "tA = (90, 90, 90, 90)\n",
    "\n",
    "if all(x == tA[0] for x in tA):\n",
    "    print(True)\n",
    "else:\n",
    "    print(false)"
   ]
  },
  {
   "cell_type": "code",
   "execution_count": 2,
   "id": "ce9a7805",
   "metadata": {},
   "outputs": [
    {
     "name": "stdout",
     "output_type": "stream",
     "text": [
      "Data: ('Matahari Bhakti Nendya', 22064091, 'Bantul, DI Yogyakarta')\n",
      "NIM : 22064091\n",
      "NAMA Matahari Bhakti Nendya\n",
      "ALAMAT Bantul, DI Yogyakarta\n",
      "NIM (2, 2; 0; 6;4;*0; 9,11): ('2', '2', '0', '6', '4', '0', '9', '1')\n",
      "NAMA DEPAN: ('M', 'a', 't', 'a', 'h', 'a', 'r', 'i')\n",
      "NAMA TERBALIK: ('Nendya', 'Bhakti', 'Matahari')\n"
     ]
    }
   ],
   "source": [
    "data_diri = ('Matahari Bhakti Nendya', 22064091, 'Bantul, DI Yogyakarta')\n",
    "\n",
    "print('Data:', data_diri)\n",
    "print('NIM :', data_diri[1])\n",
    "print('NAMA', data_diri[0])\n",
    "print('ALAMAT', data_diri[2])\n",
    "\n",
    "nim_tuple = tuple(str(data_diri[1]))\n",
    "print('NIM (2, 2; 0; 6;4;*0; 9,11):', nim_tuple)\n",
    "\n",
    "nama_depan = tuple(data_diri[0].split()[0])\n",
    "print('NAMA DEPAN:', nama_depan)\n",
    "\n",
    "nama_terbalik = tuple(reversed(data_diri[0].split()))\n",
    "print('NAMA TERBALIK:', nama_terbalik)\n",
    "\n"
   ]
  },
  {
   "cell_type": "code",
   "execution_count": null,
   "id": "e700ad59",
   "metadata": {},
   "outputs": [],
   "source": [
    "name = input(\"Masukkan nama file: \")\n",
    "try:\n",
    "    file = open(name)\n",
    "except:\n",
    "    print(f\"{name} is not found!\")\n",
    "    quit()\n",
    "\n",
    "hours_dict = dict()\n",
    "for line in file:\n",
    "    if line.startswith('From '):\n",
    "        words = line.split()\n",
    "        time = words[5]\n",
    "        hour = time[:2]\n",
    "        hours_dict[hour] = hours_dict.get(hour, 0) + 1\n",
    "\n",
    "hours_list = sorted(hours_dict.items())\n",
    "\n",
    "for hour, count in hours_list:\n",
    "    print(hour, count)"
   ]
  }
 ],
 "metadata": {
  "kernelspec": {
   "display_name": "Python 3 (ipykernel)",
   "language": "python",
   "name": "python3"
  },
  "language_info": {
   "codemirror_mode": {
    "name": "ipython",
    "version": 3
   },
   "file_extension": ".py",
   "mimetype": "text/x-python",
   "name": "python",
   "nbconvert_exporter": "python",
   "pygments_lexer": "ipython3",
   "version": "3.11.5"
  }
 },
 "nbformat": 4,
 "nbformat_minor": 5
}
